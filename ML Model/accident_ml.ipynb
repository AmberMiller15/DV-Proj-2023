{
 "cells": [
  {
   "cell_type": "code",
   "execution_count": null,
   "id": "64737801",
   "metadata": {},
   "outputs": [],
   "source": [
    "# import dependencies\n",
    "\n",
    "import pandas as pd\n",
    "from pathlib import Path\n",
    "import matplotlib.pyplot as plt\n",
    "import numpy as np\n",
    "\n",
    "\n",
    "# may delete or move these these once model is more defined\n",
    "from sklearn.model_selection import train_test_split\n",
    "from sklearn.linear_model import LinearRegression\n",
    "from sklearn.metrics import accuracy_score"
   ]
  },
  {
   "cell_type": "code",
   "execution_count": null,
   "id": "32546384",
   "metadata": {},
   "outputs": [],
   "source": []
  },
  {
   "cell_type": "code",
   "execution_count": null,
   "id": "dfe0f043",
   "metadata": {},
   "outputs": [],
   "source": [
    "# import data and create dataframe"
   ]
  },
  {
   "cell_type": "code",
   "execution_count": null,
   "id": "fb6e5073",
   "metadata": {},
   "outputs": [],
   "source": []
  },
  {
   "cell_type": "code",
   "execution_count": null,
   "id": "ff686a46",
   "metadata": {},
   "outputs": [],
   "source": [
    "# partition data into training and test data\n"
   ]
  },
  {
   "cell_type": "code",
   "execution_count": null,
   "id": "6ea5ff28",
   "metadata": {},
   "outputs": [],
   "source": []
  },
  {
   "cell_type": "code",
   "execution_count": null,
   "id": "c4a91a24",
   "metadata": {},
   "outputs": [],
   "source": [
    "# create ml model"
   ]
  },
  {
   "cell_type": "code",
   "execution_count": null,
   "id": "57f0ff73",
   "metadata": {},
   "outputs": [],
   "source": []
  },
  {
   "cell_type": "code",
   "execution_count": null,
   "id": "a54631d3",
   "metadata": {},
   "outputs": [],
   "source": [
    "# train the model"
   ]
  },
  {
   "cell_type": "code",
   "execution_count": null,
   "id": "78734d9a",
   "metadata": {},
   "outputs": [],
   "source": []
  },
  {
   "cell_type": "code",
   "execution_count": null,
   "id": "daf1d6b6",
   "metadata": {},
   "outputs": [],
   "source": [
    "# make preditions with the model"
   ]
  },
  {
   "cell_type": "code",
   "execution_count": null,
   "id": "0aacb850",
   "metadata": {},
   "outputs": [],
   "source": []
  },
  {
   "cell_type": "code",
   "execution_count": null,
   "id": "ff0543e5",
   "metadata": {},
   "outputs": [],
   "source": [
    "# validate the model"
   ]
  },
  {
   "cell_type": "code",
   "execution_count": null,
   "id": "8288c243",
   "metadata": {},
   "outputs": [],
   "source": []
  }
 ],
 "metadata": {
  "kernelspec": {
   "display_name": "mlenv",
   "language": "python",
   "name": "mlenv"
  },
  "language_info": {
   "codemirror_mode": {
    "name": "ipython",
    "version": 3
   },
   "file_extension": ".py",
   "mimetype": "text/x-python",
   "name": "python",
   "nbconvert_exporter": "python",
   "pygments_lexer": "ipython3",
   "version": "3.7.13"
  }
 },
 "nbformat": 4,
 "nbformat_minor": 5
}
