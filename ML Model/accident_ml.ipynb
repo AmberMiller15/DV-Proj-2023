{
 "cells": [
  {
   "cell_type": "code",
   "execution_count": null,
   "id": "6530ba33",
   "metadata": {},
   "outputs": [],
   "source": [
    "# import dependencies"
   ]
  },
  {
   "cell_type": "code",
   "execution_count": null,
   "id": "f8edfefb",
   "metadata": {},
   "outputs": [],
   "source": []
  },
  {
   "cell_type": "code",
   "execution_count": null,
   "id": "8f4df16f",
   "metadata": {},
   "outputs": [],
   "source": [
    "# import data"
   ]
  },
  {
   "cell_type": "code",
   "execution_count": null,
   "id": "5e015410",
   "metadata": {},
   "outputs": [],
   "source": []
  },
  {
   "cell_type": "code",
   "execution_count": null,
   "id": "73262dc0",
   "metadata": {},
   "outputs": [],
   "source": [
    "# partition data into training and test data"
   ]
  },
  {
   "cell_type": "code",
   "execution_count": null,
   "id": "e42506d9",
   "metadata": {},
   "outputs": [],
   "source": []
  },
  {
   "cell_type": "code",
   "execution_count": null,
   "id": "c9a1f4e9",
   "metadata": {},
   "outputs": [],
   "source": [
    "# create ml model"
   ]
  },
  {
   "cell_type": "code",
   "execution_count": null,
   "id": "729fd99f",
   "metadata": {},
   "outputs": [],
   "source": []
  },
  {
   "cell_type": "code",
   "execution_count": null,
   "id": "7342a84f",
   "metadata": {},
   "outputs": [],
   "source": [
    "# train the model"
   ]
  },
  {
   "cell_type": "code",
   "execution_count": null,
   "id": "4a5e33dc",
   "metadata": {},
   "outputs": [],
   "source": []
  },
  {
   "cell_type": "code",
   "execution_count": null,
   "id": "de0c81fc",
   "metadata": {},
   "outputs": [],
   "source": [
    "# make preditions with the model"
   ]
  },
  {
   "cell_type": "code",
   "execution_count": null,
   "id": "fc829469",
   "metadata": {},
   "outputs": [],
   "source": []
  },
  {
   "cell_type": "code",
   "execution_count": null,
   "id": "87a0cdb3",
   "metadata": {},
   "outputs": [],
   "source": [
    "# validate the model"
   ]
  },
  {
   "cell_type": "code",
   "execution_count": null,
   "id": "81584186",
   "metadata": {},
   "outputs": [],
   "source": []
  }
 ],
 "metadata": {
  "kernelspec": {
   "display_name": "mlenv",
   "language": "python",
   "name": "mlenv"
  },
  "language_info": {
   "codemirror_mode": {
    "name": "ipython",
    "version": 3
   },
   "file_extension": ".py",
   "mimetype": "text/x-python",
   "name": "python",
   "nbconvert_exporter": "python",
   "pygments_lexer": "ipython3",
   "version": "3.7.13"
  }
 },
 "nbformat": 4,
 "nbformat_minor": 5
}
